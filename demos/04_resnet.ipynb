{
 "cells": [
  {
   "cell_type": "markdown",
   "id": "agreed-middle",
   "metadata": {},
   "source": [
    "   It's originated from https://github.com/fastai/fastbook/blob/master/14_resnet.ipynb.\n",
    "   Original notebook can run single worker with notebook"
   ]
  },
  {
   "cell_type": "code",
   "execution_count": 3,
   "id": "interracial-healing",
   "metadata": {
    "scrolled": true
   },
   "outputs": [
    {
     "name": "stdout",
     "output_type": "stream",
     "text": [
      "#!/usr/bin/env python\n",
      "# coding: utf-8\n",
      "\n",
      "\n",
      "import fastbook\n",
      "fastbook.setup_book()\n",
      "\n",
      "from fastbook import *\n",
      "\n",
      "def get_data(url, presize, resize):\n",
      "    path = untar_data(url)\n",
      "    return DataBlock(\n",
      "        blocks=(ImageBlock, CategoryBlock), get_items=get_image_files, \n",
      "        splitter=GrandparentSplitter(valid_name='val'),\n",
      "        get_y=parent_label, item_tfms=Resize(presize),\n",
      "        batch_tfms=aug_transforms(min_scale=0.5, size=resize).append(Normalize.from_stats(*imagenet_stats)),\n",
      "    ).dataloaders(path, bs=128)\n",
      "\n",
      "def avg_pool(x): return x.mean((2,3))\n",
      "\n",
      "def block(ni, nf): return ConvLayer(ni, nf, stride=2)\n",
      "\n",
      "def get_model():\n",
      "    return nn.Sequential(\n",
      "        block(3, 16),\n",
      "        block(16, 32),\n",
      "        block(32, 64),\n",
      "        block(64, 128),\n",
      "        block(128, 256),\n",
      "        nn.AdaptiveAvgPool2d(1),\n",
      "        Flatten(),\n",
      "        nn.Linear(256, dls.c))\n",
      "\n",
      "def get_learner(m):\n",
      "    return Learner(dls, m, loss_func=nn.CrossEntropyLoss(), metrics=accuracy\n",
      "                  ).to_fp16()\n",
      "\n",
      "if __name__ == \"__main__\":\n",
      "    dls = get_data(URLs.IMAGENETTE_160, 160, 128)\n",
      "    resnet_model = get_model()\n",
      "    learn = get_learner(resnet_model)\n",
      "    learn.lr_find()\n",
      "    learn.fit_one_cycle(5, 3e-3)\n",
      "\n",
      "\n"
     ]
    }
   ],
   "source": [
    "with open('resnet.py', 'r') as text:\n",
    "    textfile = text.read()\n",
    "    print(textfile)"
   ]
  },
  {
   "cell_type": "code",
   "execution_count": 5,
   "id": "boxed-theory",
   "metadata": {},
   "outputs": [],
   "source": [
    "from subprocess import Popen, PIPE\n",
    "process = Popen([\"python\", \"resnet.py\"])"
   ]
  },
  {
   "cell_type": "code",
   "execution_count": null,
   "id": "electric-shell",
   "metadata": {},
   "outputs": [],
   "source": []
  }
 ],
 "metadata": {
  "kernelspec": {
   "display_name": "Python 3",
   "language": "python",
   "name": "python3"
  },
  "language_info": {
   "codemirror_mode": {
    "name": "ipython",
    "version": 3
   },
   "file_extension": ".py",
   "mimetype": "text/x-python",
   "name": "python",
   "nbconvert_exporter": "python",
   "pygments_lexer": "ipython3",
   "version": "3.8.0"
  }
 },
 "nbformat": 4,
 "nbformat_minor": 5
}
