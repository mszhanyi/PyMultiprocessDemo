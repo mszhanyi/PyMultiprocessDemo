{
 "cells": [
  {
   "cell_type": "markdown",
   "id": "juvenile-baghdad",
   "metadata": {},
   "source": [
    "In this notebook, we can see the different multiprocessing action between notebook and script on Windows.\n",
    "With script, the subprocess will import the calling module. So we can see 'say_hi' runs both in main process and subprocess.\n",
    "But in notebook, the `say_hi` runs only in main process. \n",
    "As a result, the functions or objects used in subprocess must be defined in the seperate files."
   ]
  },
  {
   "cell_type": "markdown",
   "id": "pressed-satellite",
   "metadata": {},
   "source": [
    "Note: Importing module means it will execute the code in the module. Not like fork, functions are copied not executed.<br>\n",
    "Fork and Spawn are actions in OS. Importing Module is a an action in Python Interpreter."
   ]
  },
  {
   "cell_type": "code",
   "execution_count": 1,
   "id": "aerial-principle",
   "metadata": {},
   "outputs": [],
   "source": [
    "from mycellmagic import *"
   ]
  },
  {
   "cell_type": "code",
   "execution_count": 2,
   "id": "smart-occupation",
   "metadata": {},
   "outputs": [
    {
     "name": "stdout",
     "output_type": "stream",
     "text": [
      "I'm in process 8012, I can see Yi\n",
      "Done\n"
     ]
    }
   ],
   "source": [
    "import multiprocessing as mp\n",
    "import os\n",
    "import time\n",
    "from mpfunc import *\n",
    "\n",
    "\n",
    "my_name = \"Yi\"\n",
    "def say_hi():\n",
    "    print(f\"I'm in process {os.getpid()}, I can see {my_name}\")\n",
    "say_hi()\n",
    "\n",
    "#in fact, __name__ == \"__main__\" is not necessary in notebook.\n",
    "#because the module isn't imported in sub process.\n",
    "#It's just to keep consistent with the code in scripts to avoid confusion.\n",
    "if __name__ == \"__main__\":\n",
    "    p = mp.Process(target=dir)\n",
    "    p.demon = True\n",
    "    p.start()\n",
    "    print('Done')\n",
    "    p.join()"
   ]
  },
  {
   "cell_type": "markdown",
   "id": "attractive-stomach",
   "metadata": {},
   "source": [
    "Running in Notebook, the say_hi() is only executed once."
   ]
  },
  {
   "cell_type": "code",
   "execution_count": 3,
   "id": "detailed-silver",
   "metadata": {},
   "outputs": [],
   "source": [
    "%%save2file notebookvsscript.py\n",
    "import multiprocessing as mp\n",
    "import os\n",
    "import time\n",
    "\n",
    "my_name = \"Yi\"\n",
    "def say_hi():\n",
    "    print(f\"I'm in process {os.getpid()}, I can see {my_name}\")\n",
    "say_hi()\n",
    "\n",
    "def current_module_name():\n",
    "    print(__name__)\n",
    "\n",
    "if __name__ == \"__main__\":\n",
    "    # start new process\n",
    "    p = mp.Process(target=current_module_name)\n",
    "    p.start()\n",
    "    print('Done')\n",
    "    p.join()"
   ]
  },
  {
   "cell_type": "code",
   "execution_count": 4,
   "id": "chicken-transparency",
   "metadata": {
    "scrolled": true
   },
   "outputs": [
    {
     "name": "stdout",
     "output_type": "stream",
     "text": [
      "I'm in process 7396, I can see Yi\n",
      "__mp_main__\n",
      "I'm in process 11336, I can see Yi\n",
      "Done\n"
     ]
    }
   ],
   "source": [
    "cmd = \"python notebookvsscript.py\"\n",
    "!{cmd}\n"
   ]
  },
  {
   "cell_type": "markdown",
   "id": "accompanied-nepal",
   "metadata": {},
   "source": [
    "Runing with script, We can see `say_hi` is executed both in parent process and sub process.<br>\n",
    "In the sub process, the module name is changed to `__mp_main__`. <br>\n",
    "And there is `if __name__ == \"__main__\"`, so  `start new process` won't be executed in sub process again."
   ]
  },
  {
   "cell_type": "code",
   "execution_count": null,
   "id": "still-timber",
   "metadata": {},
   "outputs": [],
   "source": []
  }
 ],
 "metadata": {
  "kernelspec": {
   "display_name": "Python 3",
   "language": "python",
   "name": "python3"
  },
  "language_info": {
   "codemirror_mode": {
    "name": "ipython",
    "version": 3
   },
   "file_extension": ".py",
   "mimetype": "text/x-python",
   "name": "python",
   "nbconvert_exporter": "python",
   "pygments_lexer": "ipython3",
   "version": "3.8.0"
  }
 },
 "nbformat": 4,
 "nbformat_minor": 5
}
